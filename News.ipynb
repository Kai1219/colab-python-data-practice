{
  "nbformat": 4,
  "nbformat_minor": 0,
  "metadata": {
    "colab": {
      "provenance": [],
      "toc_visible": true,
      "authorship_tag": "ABX9TyP0ctUP0o1OnHL2VMOCdpto",
      "include_colab_link": true
    },
    "kernelspec": {
      "name": "python3",
      "display_name": "Python 3"
    },
    "language_info": {
      "name": "python"
    }
  },
  "cells": [
    {
      "cell_type": "markdown",
      "metadata": {
        "id": "view-in-github",
        "colab_type": "text"
      },
      "source": [
        "<a href=\"https://colab.research.google.com/github/Kai1219/colab-python-data-practice/blob/main/News.ipynb\" target=\"_parent\"><img src=\"https://colab.research.google.com/assets/colab-badge.svg\" alt=\"Open In Colab\"/></a>"
      ]
    },
    {
      "cell_type": "markdown",
      "source": [
        "# 口罩API"
      ],
      "metadata": {
        "id": "0SlXWfTld1JY"
      }
    },
    {
      "cell_type": "code",
      "source": [
        "# @title\n",
        "import requests\n",
        "import json\n",
        "\n",
        "# 利用 requests 對 API 來源發送一個請求\n",
        "url = \"https://raw.githubusercontent.com/kiang/pharmacies/master/json/points.json\"\n",
        "response = requests.get(url)\n",
        "\n",
        "# 將請求回應的內容存成一個字串格式\n",
        "d = response.text\n",
        "\n",
        "# 將長得像 json 格式的字串解析成字典或列表\n",
        "data = json.loads(d)"
      ],
      "metadata": {
        "id": "SGKu0wcTH5QL",
        "cellView": "form"
      },
      "execution_count": null,
      "outputs": []
    },
    {
      "cell_type": "code",
      "source": [
        "# @title\n",
        "# 將取回來的資料利用 Python 語法計算各地區的藥局數量\n",
        "\n",
        "med_count = {}\n",
        "\n",
        "for d in data[\"features\"]:\n",
        "  conunty = d[\"properties\"][\"county\"]\n",
        "  if conunty not in med_count:\n",
        "    med_count[conunty] = 0\n",
        "  med_count[conunty] += 1\n",
        "\n",
        "print(med_count)\n",
        "# {'臺北市': 339, '': 49, '高雄市': 422, '臺中市': 420, '臺南市 ...}"
      ],
      "metadata": {
        "colab": {
          "base_uri": "https://localhost:8080/"
        },
        "cellView": "form",
        "id": "Z5Wld6osXvsi",
        "outputId": "6319172a-349c-49a0-dfae-d5445e260221"
      },
      "execution_count": null,
      "outputs": [
        {
          "output_type": "stream",
          "name": "stdout",
          "text": [
            "{'臺北市': 339, '': 49, '高雄市': 422, '臺中市': 420, '臺南市': 271, '基隆市': 57, '新竹市': 39, '嘉義市': 67, '新北市': 501, '桃園市': 264, '新竹縣': 46, '宜蘭縣': 76, '苗栗縣': 56, '彰化縣': 179, '南投縣': 67, '雲林縣': 129, '嘉義縣': 84, '屏東縣': 140, '澎湖縣': 11, '花蓮縣': 46, '臺東縣': 23, '金門縣': 6, '連江縣': 1}\n"
          ]
        }
      ]
    },
    {
      "cell_type": "code",
      "source": [
        "# @title\n",
        "# 計算出每個地區的成人剩餘口罩數量，並且將結果從大到小排列\n",
        "mask_count = {}\n",
        "total = 0\n",
        "for d in data[\"features\"]:\n",
        "  conunty = d[\"properties\"][\"county\"]\n",
        "  if conunty not in mask_count:\n",
        "    mask_count[conunty] = 0\n",
        "  mask_count[conunty] += d[\"properties\"][\"mask_adult\"]\n",
        "  total += d[\"properties\"][\"mask_adult\"]\n",
        "\n",
        "mask_count = dict(sorted(mask_count.items(),key=lambda item:item[1],reverse=True))\n",
        "\n",
        "print(mask_count)\n",
        "# {'新北市': 670270, '臺中市': 536710, '高雄市': 424170, '臺南市': 393900, '桃園市': 331940, '臺北市': 322490, '彰化縣': 219400, '雲林縣': 196990 ...}"
      ],
      "metadata": {
        "colab": {
          "base_uri": "https://localhost:8080/"
        },
        "cellView": "form",
        "id": "zwnG99F4Xtyr",
        "outputId": "f5a86599-1e5d-4a58-9bdb-8847d5ad4793"
      },
      "execution_count": null,
      "outputs": [
        {
          "output_type": "stream",
          "name": "stdout",
          "text": [
            "{'新北市': 670270, '臺中市': 536710, '高雄市': 424170, '臺南市': 393900, '桃園市': 331940, '臺北市': 322490, '彰化縣': 219400, '雲林縣': 196990, '屏東縣': 184250, '苗栗縣': 131080, '嘉義縣': 113180, '嘉義市': 107840, '宜蘭縣': 106900, '南投縣': 91240, '基隆市': 80100, '': 69210, '花蓮縣': 57330, '新竹縣': 51350, '新竹市': 45630, '臺東縣': 28510, '金門縣': 15510, '澎湖縣': 12600, '連江縣': 7930}\n"
          ]
        }
      ]
    },
    {
      "cell_type": "code",
      "source": [
        "# @title\n",
        "# 將「各地區的藥局數量」存入資料庫的 `pharmacies` 表格，欄位包含「地區」、「數量」、「新增時間」\n",
        "import requests\n",
        "import json\n",
        "import sqlite3\n",
        "import datetime\n",
        "\n",
        "# 利用 requests 取得口罩API資料\n",
        "url = \"https://raw.githubusercontent.com/kiang/pharmacies/master/json/points.json\"\n",
        "response = requests.get(url)\n",
        "d = response.text\n",
        "data = json.loads(d)\n",
        "\n",
        "med_count = {}\n",
        "\n",
        "for d in data[\"features\"]:\n",
        "  conunty = d[\"properties\"][\"county\"]\n",
        "  if conunty not in med_count:\n",
        "    med_count[conunty] = 0\n",
        "  med_count[conunty] += 1\n",
        "\n",
        "# 建立資料庫\n",
        "con = sqlite3.connect(\"mask.db\")\n",
        "c = con.cursor()\n",
        "\n",
        "# 建立pharmacies資料表\n",
        "c.execute('''CREATE TABLE IF NOT EXISTS pharmacies\n",
        "           (conunty TEXT,quantity INTEGER,create_time DATETIME)''')\n",
        "c.execute(\"DELETE FROM pharmacies\")\n",
        "con.commit()\n",
        "\n",
        "for med in med_count.items():\n",
        "  t = datetime.datetime.now()\n",
        "  c.execute(f\"INSERT INTO pharmacies VALUES ('{med[0]}',{med[1]},'{t}')\")\n",
        "\n",
        "con.commit()\n",
        "\n",
        "c.execute(\"SELECT * FROM pharmacies\")\n",
        "print(c.fetchall())\n",
        "con.close()"
      ],
      "metadata": {
        "colab": {
          "base_uri": "https://localhost:8080/"
        },
        "cellView": "form",
        "id": "-GhqRgpKyiMR",
        "outputId": "13e754a3-0da3-4522-b5dd-9721a3ea4680"
      },
      "execution_count": null,
      "outputs": [
        {
          "output_type": "stream",
          "name": "stdout",
          "text": [
            "[('臺北市', 339, '2025-08-03 12:25:12.438209'), ('', 49, '2025-08-03 12:25:12.438359'), ('高雄市', 422, '2025-08-03 12:25:12.438394'), ('臺中市', 420, '2025-08-03 12:25:12.438407'), ('臺南市', 271, '2025-08-03 12:25:12.438432'), ('基隆市', 57, '2025-08-03 12:25:12.438443'), ('新竹市', 39, '2025-08-03 12:25:12.438457'), ('嘉義市', 67, '2025-08-03 12:25:12.438471'), ('新北市', 501, '2025-08-03 12:25:12.438484'), ('桃園市', 264, '2025-08-03 12:25:12.438496'), ('新竹縣', 46, '2025-08-03 12:25:12.438508'), ('宜蘭縣', 76, '2025-08-03 12:25:12.438517'), ('苗栗縣', 56, '2025-08-03 12:25:12.438527'), ('彰化縣', 179, '2025-08-03 12:25:12.438537'), ('南投縣', 67, '2025-08-03 12:25:12.438550'), ('雲林縣', 129, '2025-08-03 12:25:12.438562'), ('嘉義縣', 84, '2025-08-03 12:25:12.438598'), ('屏東縣', 140, '2025-08-03 12:25:12.438618'), ('澎湖縣', 11, '2025-08-03 12:25:12.438631'), ('花蓮縣', 46, '2025-08-03 12:25:12.438642'), ('臺東縣', 23, '2025-08-03 12:25:12.438653'), ('金門縣', 6, '2025-08-03 12:25:12.438662'), ('連江縣', 1, '2025-08-03 12:25:12.438679')]\n"
          ]
        }
      ]
    },
    {
      "cell_type": "code",
      "source": [
        "# 將「各地區的剩餘成人口罩」存入資料庫的 `masks` 表格，欄位包含「地區」、「剩餘成人口罩數量」、「新增時間」\n",
        "import sqlite3\n",
        "import json\n",
        "import datetime\n",
        "import requests\n",
        "\n",
        "# 利用 requests 取得口罩API資料\n",
        "url = \"https://raw.githubusercontent.com/kiang/pharmacies/master/json/points.json\"\n",
        "response = requests.get(url)\n",
        "d = response.text\n",
        "data = json.loads(d)\n",
        "\n",
        "mask_count = {}\n",
        "\n",
        "for d in data[\"features\"]:\n",
        "  conunty = d[\"properties\"][\"county\"]\n",
        "  if conunty not in mask_count:\n",
        "    mask_count[conunty] = 0\n",
        "  mask_count[conunty] += d[\"properties\"][\"mask_adult\"]\n",
        "\n",
        "# 建立資料庫\n",
        "con = sqlite3.connect(\"mask.db\")\n",
        "c = con.cursor()\n",
        "\n",
        "# 刪掉舊表格\n",
        "c.execute(\"DROP TABLE IF EXISTS masks\")\n",
        "# 建立masks資料表\n",
        "c.execute('''CREATE TABLE IF NOT EXISTS masks (conunty TEXT,adult_masks INTEGER,create_time DATETIME)''')\n",
        "# 刪除表格中的所有資料列\n",
        "c.execute(\"DELETE FROM masks\")\n",
        "con.commit()\n",
        "\n",
        "\n",
        "for county,adult_masks in mask_count.items():\n",
        "  t = datetime.datetime.now()\n",
        "  # print(f\"INSERT INTO masks VALUES ('{county}',{adult_masks},{t})\")\n",
        "  c.execute(\"INSERT INTO masks VALUES (?, ?, ?)\",(county,adult_masks,t))\n",
        "  con.commit()\n",
        "\n",
        "c.execute(\"SELECT * FROM masks\")\n",
        "print(c.fetchall())\n",
        "\n",
        "con.close()"
      ],
      "metadata": {
        "colab": {
          "base_uri": "https://localhost:8080/"
        },
        "id": "obhsE5oAoEIY",
        "outputId": "70b0da8f-2cac-4575-f90b-10730b535f6e"
      },
      "execution_count": null,
      "outputs": [
        {
          "output_type": "stream",
          "name": "stdout",
          "text": [
            "[('臺北市', 322490, '2025-08-03 12:31:21.105281'), ('', 69210, '2025-08-03 12:31:21.110640'), ('高雄市', 424170, '2025-08-03 12:31:21.115099'), ('臺中市', 536710, '2025-08-03 12:31:21.119711'), ('臺南市', 393900, '2025-08-03 12:31:21.126441'), ('基隆市', 80100, '2025-08-03 12:31:21.131327'), ('新竹市', 45630, '2025-08-03 12:31:21.136096'), ('嘉義市', 107840, '2025-08-03 12:31:21.140775'), ('新北市', 670270, '2025-08-03 12:31:21.145774'), ('桃園市', 331940, '2025-08-03 12:31:21.150749'), ('新竹縣', 51350, '2025-08-03 12:31:21.156080'), ('宜蘭縣', 106900, '2025-08-03 12:31:21.161180'), ('苗栗縣', 131080, '2025-08-03 12:31:21.166179'), ('彰化縣', 219400, '2025-08-03 12:31:21.171022'), ('南投縣', 91240, '2025-08-03 12:31:21.178620'), ('雲林縣', 196990, '2025-08-03 12:31:21.185695'), ('嘉義縣', 113180, '2025-08-03 12:31:21.192868'), ('屏東縣', 184250, '2025-08-03 12:31:21.199758'), ('澎湖縣', 12600, '2025-08-03 12:31:21.206111'), ('花蓮縣', 57330, '2025-08-03 12:31:21.213152'), ('臺東縣', 28510, '2025-08-03 12:31:21.219684'), ('金門縣', 15510, '2025-08-03 12:31:21.225274'), ('連江縣', 7930, '2025-08-03 12:31:21.230654')]\n"
          ]
        }
      ]
    },
    {
      "cell_type": "markdown",
      "source": [
        "# 新聞語料關鍵字分析 jieba"
      ],
      "metadata": {
        "id": "mgp7Jkeid2d9"
      }
    },
    {
      "cell_type": "code",
      "source": [
        "import requests\n",
        "from bs4 import BeautifulSoup\n",
        "\n",
        "# 利用 requests 對 API 來源發送一個請求\n",
        "response = requests.get('https://udn.com/news/breaknews/1')\n",
        "soup = BeautifulSoup(response.text)\n",
        "\n",
        "news = []\n",
        "\n",
        "for link in soup.find_all('h3', class_='rounded-thumb__title')[:4]:\n",
        "  news_url = link.a['href']\n",
        "  news_response = requests.get('https://udn.com' + news_url)\n",
        "  news_soup = BeautifulSoup(news_response.text)\n",
        "  news_content = news_soup.find('div', class_='article-content__paragraph').text.strip().replace('\\n', ' ')\n",
        "  news.append(news_content)\n",
        "\n",
        "print(news)"
      ],
      "metadata": {
        "id": "iH-c2b-8d3Lb"
      },
      "execution_count": null,
      "outputs": []
    }
  ]
}