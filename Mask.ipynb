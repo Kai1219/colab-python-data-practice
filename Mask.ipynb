{
  "nbformat": 4,
  "nbformat_minor": 0,
  "metadata": {
    "colab": {
      "provenance": [],
      "authorship_tag": "ABX9TyN2qJu/JIX4Upe99WY4G7P9",
      "include_colab_link": true
    },
    "kernelspec": {
      "name": "python3",
      "display_name": "Python 3"
    },
    "language_info": {
      "name": "python"
    }
  },
  "cells": [
    {
      "cell_type": "markdown",
      "metadata": {
        "id": "view-in-github",
        "colab_type": "text"
      },
      "source": [
        "<a href=\"https://colab.research.google.com/github/Kai1219/hello-colab/blob/main/Mask.ipynb\" target=\"_parent\"><img src=\"https://colab.research.google.com/assets/colab-badge.svg\" alt=\"Open In Colab\"/></a>"
      ]
    },
    {
      "cell_type": "code",
      "source": [
        "# @title\n",
        "import requests\n",
        "import json\n",
        "\n",
        "# 利用 requests 對 API 來源發送一個請求\n",
        "url = \"https://raw.githubusercontent.com/kiang/pharmacies/master/json/points.json\"\n",
        "response = requests.get(url)\n",
        "\n",
        "# 將請求回應的內容存成一個字串格式\n",
        "d = response.text\n",
        "\n",
        "# 將長得像 json 格式的字串解析成字典或列表\n",
        "data = json.loads(d)\n",
        "\n",
        "\n",
        "# 將取回來的資料利用 Python 語法計算各地區的藥局數量\n",
        "\n",
        "med_count = {}\n",
        "\n",
        "for d in data[\"features\"]:\n",
        "  conunty = d[\"properties\"][\"county\"]\n",
        "  if conunty not in med_count:\n",
        "    med_count[conunty] = 0\n",
        "  med_count[conunty] += 1\n",
        "\n",
        "print(med_count)\n",
        "# {'臺北市': 339, '': 49, '高雄市': 422, '臺中市': 420, '臺南市 ...}\n",
        "\n",
        "\n",
        "# 計算出每個地區的成人剩餘口罩數量，並且將結果從大到小排列\n",
        "mask_count = {}\n",
        "total = 0\n",
        "for d in data[\"features\"]:\n",
        "  conunty = d[\"properties\"][\"county\"]\n",
        "  if conunty not in mask_count:\n",
        "    mask_count[conunty] = 0\n",
        "  mask_count[conunty] += d[\"properties\"][\"mask_adult\"]\n",
        "  total += d[\"properties\"][\"mask_adult\"]\n",
        "\n",
        "mask_count = dict(sorted(mask_count.items(),key=lambda item:item[1],reverse=True))\n",
        "\n",
        "print(mask_count)\n",
        "# {'新北市': 670270, '臺中市': 536710, '高雄市': 424170, '臺南市': 393900, '桃園市': 331940, '臺北市': 322490, '彰化縣': 219400, '雲林縣': 196990 ...}\n"
      ],
      "metadata": {
        "id": "SGKu0wcTH5QL"
      },
      "execution_count": null,
      "outputs": []
    }
  ]
}